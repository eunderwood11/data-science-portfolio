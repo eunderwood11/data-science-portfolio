{
 "cells": [
  {
   "cell_type": "markdown",
   "id": "7f8270f8-b0cb-48aa-9354-0cf756d201a7",
   "metadata": {},
   "source": [
    "## mini checkers"
   ]
  },
  {
   "cell_type": "code",
   "execution_count": null,
   "id": "6558b185-ae1e-482e-a7b5-fac870888c0d",
   "metadata": {},
   "outputs": [],
   "source": [
    "from mplturtle import *\n",
    "from random import randint, choice, random\n",
    "from Game import *"
   ]
  },
  {
   "cell_type": "markdown",
   "id": "720413f6-60c3-42e3-ad56-2822ad68de49",
   "metadata": {},
   "source": [
    "# Checkers"
   ]
  },
  {
   "cell_type": "code",
   "execution_count": 4,
   "id": "22282397-9864-4f28-896d-a0c592c54837",
   "metadata": {},
   "outputs": [],
   "source": [
    "def initial_state():\n",
    "    state = Board(6, 6)\n",
    "    for i in [1, 3, 5, 6, 8, 10]:\n",
    "        state[i] = 1\n",
    "    for i in [34, 32, 30, 29, 27, 25]:\n",
    "        state[i] = 2\n",
    "    state.pieces = '.', 'o', '●', '◯', '⚫'\n",
    "    return state"
   ]
  },
  {
   "cell_type": "code",
   "execution_count": 5,
   "id": "7bb8f340-b2fb-4b20-b841-8eecfe9f8d31",
   "metadata": {},
   "outputs": [],
   "source": [
    "def show_state(state, player):\n",
    "    print(state)"
   ]
  },
  {
   "cell_type": "code",
   "execution_count": null,
   "id": "82576e66-0c9a-4b64-ac8d-77162a5f2049",
   "metadata": {},
   "outputs": [],
   "source": []
  },
  {
   "cell_type": "code",
   "execution_count": 6,
   "id": "8f289be7-958e-4998-b3ad-5322286f934c",
   "metadata": {},
   "outputs": [],
   "source": [
    "def P1diagonals(start):\n",
    "    if start in [1, 3, 8, 10, 13, 15, 20, 22, 25, 27]:\n",
    "        return (start+5, start+7)\n",
    "    if start in [5, 17, 29]:\n",
    "        return (start+5,)\n",
    "    if start in [6, 18]:\n",
    "        return (start+7,)"
   ]
  },
  {
   "cell_type": "code",
   "execution_count": 7,
   "id": "033162ca-9110-4167-b707-3c595193996a",
   "metadata": {},
   "outputs": [],
   "source": [
    "def P2diagonals(start):\n",
    "    if start in [34, 32, 27, 25, 22, 20, 15, 13, 10, 8, 3, 1]:\n",
    "        return (start-7, start-5)\n",
    "    if start in [17, 29]:\n",
    "        return (start-7,)\n",
    "    if start in [6, 18, 30]:\n",
    "        return (start-5,)"
   ]
  },
  {
   "cell_type": "code",
   "execution_count": 8,
   "id": "a4e0630c-926d-4043-8f33-e770cd8fe054",
   "metadata": {},
   "outputs": [],
   "source": [
    "def Kdiagonals(start):\n",
    "    if start in [8, 10, 13, 15, 20, 22, 25, 27]:\n",
    "        return (start-7, start-5, start+5, start+7)\n",
    "    if start in [32, 34]:\n",
    "        return (start-7, start-5)\n",
    "    if start in [1, 3]:\n",
    "        return (start+5, start+7)\n",
    "    if start in [17, 29]:\n",
    "        return (start-7, start+5)\n",
    "    if start in [6, 18]:\n",
    "        return (start-5, start+7)\n",
    "    if start==5:\n",
    "        return (start+5,)\n",
    "    if start==30:\n",
    "        return (start-5,)"
   ]
  },
  {
   "cell_type": "code",
   "execution_count": 9,
   "id": "56e466b8-54a9-4ee2-ae9e-f0c5eccf53f9",
   "metadata": {},
   "outputs": [],
   "source": [
    "def jump(state, start, player):\n",
    "    jumps = []\n",
    "    board_locations=Board(6,6)\n",
    "    board_locations.board=list(range(36))\n",
    "\n",
    "    for a,b,c in board_locations.diags(3):\n",
    "        if player==1 and start==a and state[start]==1 and (state[b]==2 or state[b]==4) and state[c]==0:\n",
    "            jumps.append((a,c))\n",
    "        if player==1 and start==c and state[start]==1 and (state[b]==2 or state[b]==4) and state[c]==0:\n",
    "            jumps.append((c,a))\n",
    "        if player==2 and start==c and state[start]==2 and (state[b]==1 or state[b]==3) and state[a]==0:\n",
    "            jumps.append((c,a))\n",
    "        if player==2 and start==a and state[start]==2 and (state[b]==1 or state[b]==3) and state[c]==0:\n",
    "            jumps.append((a,c))\n",
    "\n",
    "    return jumps\n",
    "\n"
   ]
  },
  {
   "cell_type": "code",
   "execution_count": 10,
   "id": "8d9c04c5-7055-4c48-923e-56f58fb62229",
   "metadata": {},
   "outputs": [],
   "source": [
    "def valid_moves(state, player): \n",
    "    moves=[]\n",
    "    \n",
    "    for start in range(36):\n",
    "        if player==1 and state[start]==1:\n",
    "            end_locations=P1diagonals(start)\n",
    "            for end in end_locations:\n",
    "                if state[end]==0:\n",
    "                    moves.append((start, end))\n",
    "                elif state[end]==2 or state[end]==4:\n",
    "                    moves.extend(jump(state, start, player))\n",
    "          \n",
    "        elif player==2 and state[start]==2:\n",
    "            end_locations=P2diagonals(start)\n",
    "            for end in end_locations:\n",
    "                if state[end]==0:\n",
    "                    moves.append((start, end))\n",
    "                elif state[end]==1 or state[end]==3:\n",
    "                    moves.extend(jump(state, start, player))\n",
    "                    \n",
    "        elif player==1 and state[start]==3:\n",
    "            end_locations=Kdiagonals(start)\n",
    "            for end in end_locations:\n",
    "                if state[end]==0:\n",
    "                    moves.append((start, end))\n",
    "                elif state[end]==2 or state[end]==4:\n",
    "                    moves.extend(jump(state, start, player))\n",
    "                \n",
    "                    \n",
    "        elif player==2 and state[start]==4:\n",
    "            end_locations=Kdiagonals(start)\n",
    "            for end in end_locations:\n",
    "                if state[end]==0:\n",
    "                    moves.append((start, end))\n",
    "                elif state[end]==1 or state[end]==3:\n",
    "                    moves.extend(jump(state, start, player))\n",
    "\n",
    "        else:\n",
    "            pass\n",
    "\n",
    "    moves=[list(_) for _ in moves]\n",
    "            \n",
    "    return moves"
   ]
  },
  {
   "cell_type": "code",
   "execution_count": 11,
   "id": "4b98316b-04dd-4b1d-8296-1613b2110201",
   "metadata": {},
   "outputs": [],
   "source": [
    "def update_state(state, player, move):\n",
    "    start,end=move\n",
    "    new_state = state\n",
    "\n",
    "        \n",
    "    #king function\n",
    "    if state[start]==1 and end in [30, 32, 34]:\n",
    "        new_state[end]=3\n",
    "    elif state[start]==2 and end in [1, 3, 5]:\n",
    "        new_state[end]=4\n",
    "            \n",
    "    else:\n",
    "        new_state[end]=state[start]\n",
    "            \n",
    "    new_state[start]=0\n",
    "    if abs(end-start)>7:\n",
    "        new_state[int((end + start)/2)]=0\n",
    "    else:\n",
    "        pass\n",
    "\n",
    "    state = new_state\n",
    "    return state"
   ]
  },
  {
   "cell_type": "code",
   "execution_count": 12,
   "id": "e7270fd1-c9c6-42e4-9216-6101b6342317",
   "metadata": {},
   "outputs": [],
   "source": [
    "def win_status(state, player):\n",
    "    if player==1 and not valid_moves(state,2):\n",
    "        return('win')\n",
    "    if player==2 and not valid_moves(state,1):\n",
    "        return('win')\n"
   ]
  },
  {
   "cell_type": "markdown",
   "id": "543a0374-65f5-4d61-b0bf-df99c719a94d",
   "metadata": {},
   "source": [
    "# Agents"
   ]
  },
  {
   "cell_type": "code",
   "execution_count": 14,
   "id": "01895efc-700e-4278-b6a5-4a425662251c",
   "metadata": {},
   "outputs": [],
   "source": [
    "def human_move(state,player):\n",
    "    moves=valid_moves(state,player)\n",
    "    print('Valid moves are: ',moves)\n",
    "    move=None\n",
    "    while move not in moves:\n",
    "        move_input=input('enter your move as start,end: ')\n",
    "        start,end=move_input.split(',')\n",
    "        move=(int(start),int(end))\n",
    "    \n",
    "    return move"
   ]
  },
  {
   "cell_type": "code",
   "execution_count": 15,
   "id": "35c05ba7-f496-4a3b-89b6-9e362cac0b51",
   "metadata": {},
   "outputs": [],
   "source": [
    "def random_move(state,player):    \n",
    "    return random.choice(valid_moves(state,player))\n"
   ]
  },
  {
   "cell_type": "code",
   "execution_count": 16,
   "id": "eea49c26-9fb9-4846-bd02-cfdd09039203",
   "metadata": {},
   "outputs": [],
   "source": [
    "random_agent=Agent(random_move)\n",
    "human_agent=Agent(human_move)\n",
    "   # state the percentage of wins, ties, etc..."
   ]
  },
  {
   "cell_type": "markdown",
   "id": "c935fb35-6b09-43d5-9d41-d091078137c1",
   "metadata": {},
   "source": [
    "## Minimax"
   ]
  },
  {
   "cell_type": "code",
   "execution_count": 18,
   "id": "9aa4b058-d2e6-4279-a98f-7aba2eec8122",
   "metadata": {},
   "outputs": [],
   "source": [
    "from Game.minimax import *"
   ]
  },
  {
   "cell_type": "code",
   "execution_count": 19,
   "id": "627d4b18-26b1-4ff6-9777-22996773a426",
   "metadata": {},
   "outputs": [],
   "source": [
    "def minimax_move(state, player):\n",
    "    values,actions = minimax_values(state, player, display=False, maxdepth=4) \n",
    "#max depth easily gets much too high; 8 seems to be the most acceptable time to wait, but \n",
    "#the computer performs terribly\n",
    "    return top_choice(actions, values)\n",
    "minimax_agent = Agent(minimax_move)"
   ]
  },
  {
   "cell_type": "markdown",
   "id": "9ec3ffc9-d23e-4517-bc29-091d152f0fb8",
   "metadata": {},
   "source": [
    "## Skittles"
   ]
  },
  {
   "cell_type": "code",
   "execution_count": 21,
   "id": "ee0d5827-f472-4b16-ab64-bd641fc1d588",
   "metadata": {},
   "outputs": [],
   "source": [
    "def skittles_move(state, player, info):\n",
    "    T=info.T\n",
    "    learning=info.learning\n",
    "    last_state=info.last_state\n",
    "    last_action=info.last_action\n",
    "    move_count=info.move_count\n",
    "\n",
    "    #initialzing state:\n",
    "    if state not in T:\n",
    "        actions=valid_moves(state,player)\n",
    "        T[state]=Table()\n",
    "        for action in actions:\n",
    "            T[state][action]=2\n",
    "    \n",
    "    move=weighted_choice(T[state])\n",
    "\n",
    "    if move is None:\n",
    "        move=random_move(state,player)\n",
    "\n",
    "        if learning:\n",
    "            if last_state:\n",
    "                T[last_state][last_action]-=1\n",
    "                if T[last_state][last_action]==0:\n",
    "                    T[last_state][last_action]==0\n",
    "                \n",
    "    return move\n",
    "\n",
    "def skittles_after(status,player,info):\n",
    "    T=info.T\n",
    "    learning=info.learning\n",
    "    last_state=info.last_state\n",
    "    last_action=info.last_action\n",
    "\n",
    "    if learning:\n",
    "        if status=='lose':\n",
    "            T[last_state][last_action]-=2\n",
    "            if T[last_state][last_action]==0:\n",
    "                T[last_state][last_action]=0\n",
    "                \n",
    "        if status=='win':\n",
    "            T[last_state][last_action]+=1\n",
    "            if T[last_state][last_action]>20:\n",
    "                T[last_state][last_action]=20\n",
    "\n",
    "        if status=='stalemate':\n",
    "            T[last_state][last_action]-=1\n",
    "            if T[last_state][last_action]==0:\n",
    "                T[last_state][last_action]=0"
   ]
  },
  {
   "cell_type": "code",
   "execution_count": 22,
   "id": "26b0dfdc-6ab9-40b4-97c9-b309f8050ccf",
   "metadata": {},
   "outputs": [],
   "source": [
    "skittles_agent = Agent(skittles_move)\n",
    "skittles_agent.T=Table()\n",
    "skittles_agent.post=skittles_after\n",
    "skittles_agent.learning=True"
   ]
  },
  {
   "cell_type": "code",
   "execution_count": 23,
   "id": "76cf31b3-7d7c-424d-8416-9acd9ac1b09c",
   "metadata": {},
   "outputs": [],
   "source": [
    "epoch_number=50\n",
    "N_test=300\n",
    "N_train=50"
   ]
  },
  {
   "cell_type": "code",
   "execution_count": 24,
   "id": "f9b5a918-e3d6-4d94-9382-2ca51724983a",
   "metadata": {},
   "outputs": [],
   "source": [
    "from tqdm import tqdm"
   ]
  },
  {
   "cell_type": "code",
   "execution_count": 25,
   "id": "d60670d5-f77f-4447-bcb9-53291873a8a6",
   "metadata": {},
   "outputs": [],
   "source": [
    "agent1 = Agent(skittles_move)\n",
    "agent1.T=Table()\n",
    "agent1.post=skittles_after\n",
    "agent1.learning=True\n",
    "\n",
    "agent2 = Agent(skittles_move)\n",
    "agent2.T=Table()\n",
    "agent2.post=skittles_after\n",
    "agent2.learning=True"
   ]
  },
  {
   "cell_type": "code",
   "execution_count": 26,
   "id": "d9a4b29e-f4b1-4d46-a7f4-b8c4447a4249",
   "metadata": {},
   "outputs": [],
   "source": [
    "iteration_count=0\n",
    "percentage_won_player1=[]\n",
    "percentage_won_player2=[]\n",
    "number_of_iterations=[]"
   ]
  },
  {
   "cell_type": "code",
   "execution_count": 27,
   "id": "fa1f4646-852b-434e-a0cd-2bf368b8c859",
   "metadata": {},
   "outputs": [],
   "source": [
    "from matplotlib import pyplot as plt"
   ]
  },
  {
   "cell_type": "code",
   "execution_count": null,
   "id": "06c1bccb-ef69-411e-b006-8aea6fdf879c",
   "metadata": {},
   "outputs": [
    {
     "name": "stderr",
     "output_type": "stream",
     "text": [
      " 88%|██████████████████████████████████████████████████████████████████▉         | 44/50 [21:44:54<1:00:44, 607.42s/it]"
     ]
    }
   ],
   "source": [
    "plt.close('all')\n",
    "fig,ax=plt.subplots(figsize=(6,4))\n",
    "\n",
    "for i in tqdm(range(epoch_number)):\n",
    "    try:\n",
    "        #train\n",
    "        agent1.learning=True\n",
    "        agent2.learning=True\n",
    "    \n",
    "        g=Game(number_of_games=N_train)\n",
    "        g.display=False\n",
    "        g.max_move_count=50\n",
    "        result=g.run(agent1,agent2)\n",
    "    \n",
    "        #test\n",
    "        agent1.learning=False\n",
    "        agent2.learning=False\n",
    "    \n",
    "        g=Game(number_of_games=N_test)\n",
    "        g.display=False\n",
    "        result=g.run(agent1,agent2)\n",
    "\n",
    "        iteration_count+=N_train\n",
    "        \n",
    "        percentage_won_player1.append(result.count(1)/N_test*100)\n",
    "        percentage_won_player2.append(result.count(2)/N_test*100)\n",
    "        number_of_iterations.append(iteration_count)\n",
    "\n",
    "    except KeyboardInterrupt:\n",
    "        break"
   ]
  },
  {
   "cell_type": "code",
   "execution_count": null,
   "id": "7dcec6c1-90a6-490c-8897-d476eb82914e",
   "metadata": {},
   "outputs": [],
   "source": [
    "plt.plot(number_of_iterations,percentage_won_player1, '-o',label='Player 1')\n",
    "plt.plot(number_of_iterations,percentage_won_player2, '-x',label='Player 2')\n",
    "plt.legend()"
   ]
  },
  {
   "cell_type": "code",
   "execution_count": null,
   "id": "0e5a280a-ec32-4634-b459-d0b68019b41a",
   "metadata": {},
   "outputs": [],
   "source": [
    "result"
   ]
  },
  {
   "cell_type": "code",
   "execution_count": null,
   "id": "6ba352b0-4fde-42e5-b515-022c29be7288",
   "metadata": {},
   "outputs": [],
   "source": [
    "SaveTable(agent1.T, 'CheckersSkittles.json')"
   ]
  },
  {
   "cell_type": "code",
   "execution_count": null,
   "id": "71aed481-7fce-4784-a1a3-0789c556574c",
   "metadata": {},
   "outputs": [],
   "source": [
    "g=Game(number_of_games=10)\n",
    "g.display=False\n",
    "result=g.run(minimax_agent, skittles_agent)\n",
    "print(result)"
   ]
  },
  {
   "cell_type": "markdown",
   "id": "2fceb2c7-0a8b-4028-9eae-89d51dd43624",
   "metadata": {},
   "source": [
    "discuss skittles performance, including successes, failures, limitations\n",
    "    it takes the current code 100 hours to run so I cannot tell you much besides that it does not seem to converge (so far). I doubt that it will converge at 300,000.\n",
    "\n",
    "how long it takes for minimax to function for many different search (depth and breadth) sizes:\n",
    "    how long does it for the last 2 moves, 3 moves, etc...\n",
    "    2-10 seconds per move on max depth 8, less time for the last moves, but 15 mins per game because of the wandering around\n",
    "    \n",
    "    how long does it take for different size boards\n",
    "    the size greatly affects the game time because the wandering is limited on smaller boards\n",
    "    \n",
    "be able to predict how long it would take for a board or game at least twice as large as you can practically run. show your calculations!\n",
    "    if it is twice as large (12x12), I'd square the time, so an estimated 225 minutes (if there is still no move limit or incentive to win quickly)\n",
    "\n",
    "Is Skittles the Same as Menace? What are the similarities and differences?\n",
    "    sort of the same thing, because they both have \"skittles\" to count values, but skittles is currently playing against itself instead of a human player and it takes A LOT longer than Menace. It also is an integer and not a physical skittle, like Menace would have.\n",
    "\n",
    "    "
   ]
  },
  {
   "cell_type": "markdown",
   "id": "34c75da2-a9a0-4e08-8e4b-abad18ae2578",
   "metadata": {},
   "source": [
    "## Heuristic"
   ]
  },
  {
   "cell_type": "code",
   "execution_count": null,
   "id": "9e166d11-55d1-45f4-82bb-2d9a6e60d83e",
   "metadata": {},
   "outputs": [],
   "source": [
    "%%time\n",
    "g=Game(number_of_games=10)\n",
    "g.display=False\n",
    "g.check_repeated_states=True\n",
    "result=g.run(minimax_agent, minimax_agent)\n",
    "print(result)"
   ]
  },
  {
   "cell_type": "code",
   "execution_count": null,
   "id": "5133dc00-63b9-4003-ac13-7353a6ce20cd",
   "metadata": {},
   "outputs": [],
   "source": [
    "def material(state,player):\n",
    "    your_pcs=0\n",
    "    your_kings=0\n",
    "    opp_pcs=0\n",
    "    opp_kings=0\n",
    "    i=0\n",
    "    for i in range(36):\n",
    "        if player==1:\n",
    "            if state[i]==1:\n",
    "                your_pcs+=1\n",
    "            elif state[i]==2:\n",
    "                opp_pcs+=1\n",
    "            elif state[i]==3:\n",
    "                your_kings+=1\n",
    "            elif state[i]==4:\n",
    "                opp_kings+=1\n",
    "        \n",
    "        elif player==2:\n",
    "            if state[i]==2:\n",
    "                your_pcs+=1\n",
    "            elif state[i]==1:\n",
    "                opp_pcs+=1\n",
    "            elif state[i]==4:\n",
    "                your_kings+=1\n",
    "            elif state[i]==3:\n",
    "                opp_kings+=1\n",
    "    \n",
    "        else:\n",
    "            pass\n",
    "\n",
    "\n",
    "    denom = 0.5*your_pcs + 0.5*opp_pcs + your_kings + opp_kings\n",
    "    if denom==0:\n",
    "        value=0.0\n",
    "\n",
    "    else:\n",
    "        value=((0.5*your_pcs + your_kings) - (your_kings + opp_kings)) /denom\n",
    "\n",
    "    return value\n",
    "        "
   ]
  },
  {
   "cell_type": "code",
   "execution_count": null,
   "id": "d43a94ae-0a24-4a8e-ba9a-bfdbe4907897",
   "metadata": {},
   "outputs": [],
   "source": [
    "def mobility(state,player):\n",
    "    if player==1:\n",
    "        opponent=2\n",
    "    else:\n",
    "        opponent=1\n",
    "    your_moves=len(valid_moves(state,player))\n",
    "    opp_moves=len(valid_moves(state,opponent))\n",
    "\n",
    "    denom= your_moves+opp_moves\n",
    "    if denom==0:\n",
    "        value=0.0\n",
    "\n",
    "    else:\n",
    "        value=(your_moves-opp_moves)/denom\n",
    "\n",
    "    return value\n",
    "    "
   ]
  },
  {
   "cell_type": "code",
   "execution_count": null,
   "id": "0ea6e4cd-1579-437b-a03d-3e482104b7e1",
   "metadata": {},
   "outputs": [],
   "source": [
    "def heuristic (state,player):\n",
    "    mat = material(state,player)\n",
    "    mob = mobility(state,player)\n",
    "\n",
    "    score = 0.8*mat + 0.2*mob\n",
    "    if score > 0.99:\n",
    "        score=0.99\n",
    "    elif score < -0.99:\n",
    "        score=-0.99\n",
    "\n",
    "    return score"
   ]
  },
  {
   "cell_type": "code",
   "execution_count": null,
   "id": "9b761aa8-ed7c-427b-b33b-b82249dbefc4",
   "metadata": {},
   "outputs": [],
   "source": []
  },
  {
   "cell_type": "code",
   "execution_count": null,
   "id": "dc14032f-0dbe-49f2-b082-76189564c9bf",
   "metadata": {},
   "outputs": [],
   "source": []
  },
  {
   "cell_type": "markdown",
   "id": "cea7e0ad-5f13-405a-8997-eacf20101eb5",
   "metadata": {},
   "source": [
    "## Q"
   ]
  },
  {
   "cell_type": "code",
   "execution_count": null,
   "id": "da75cddb-8226-44d7-9764-7f0f09b1185c",
   "metadata": {},
   "outputs": [],
   "source": [
    "Q=0\n",
    "t=0\n",
    "\n",
    "α=0.1\n",
    "\n",
    "_S=Storage()\n",
    "_S+= t,Q\n",
    "for i in range(1000):\n",
    "    r=rand()\n",
    "    if r<0.9:\n",
    "        reward=1\n",
    "\n",
    "    else:\n",
    "        reward=0\n",
    "        \n",
    "    Q+=α*(reward-Q)\n",
    "    t+=1\n",
    "    _S+=t,Q\n",
    "\n",
    "t,Q=_S.arrays()\n",
    "plot(t,Q)"
   ]
  },
  {
   "cell_type": "code",
   "execution_count": null,
   "id": "6adccef7-6623-433a-8cac-d3a84a954c20",
   "metadata": {},
   "outputs": [],
   "source": [
    "def Q_move(state, player, info):\n",
    "    Q=info.Q\n",
    "    learning=info.learning\n",
    "    last_state=info.last_state\n",
    "    last_action=info.last_action\n",
    "    move_count=info.move_count\n",
    "    alpha=info.alpha #learning rate\n",
    "    gamma=info.gamma #discount\n",
    "    epsilon=info.epsilon #random\n",
    "\n",
    "    if state not in Q: #initialize\n",
    "        actions=valid_moves(state,player)\n",
    "        Q[state]=Table()\n",
    "        for action in actions:\n",
    "            Q[state][action]=0.0\n",
    "\n",
    "    if learning and random.random()<epsilon:\n",
    "        move=random_move(state,player)\n",
    "\n",
    "    else:\n",
    "        move=top_choice(Q[state])\n",
    "\n",
    "    if not last_action is None:\n",
    "        reward=0\n",
    "        move=random_move(state,player)\n",
    "\n",
    "        if learning:\n",
    "            if last_state is not None:\n",
    "                \n",
    "                Q[last_state][last_action] += alpha *(reward + \n",
    "                                                      gamma*max([Q[state][a] for a in Q[state]]) -\n",
    "                                                      Q[last_state][last_action])\n",
    "                \n",
    "                                                                   \n",
    "    return move        "
   ]
  },
  {
   "cell_type": "code",
   "execution_count": null,
   "id": "720d6f42-1b45-4904-b9ff-d872f0cc9e51",
   "metadata": {},
   "outputs": [],
   "source": [
    "def Q_after(status,player,info):\n",
    "    Q=info.Q\n",
    "    learning=info.learning\n",
    "    last_state=info.last_state\n",
    "    last_action=info.last_action\n",
    "    move_count=info.move_count\n",
    "    alpha=info.alpha #learning rate\n",
    "    gamma=info.gamma #discount\n",
    "    epsilon=info.epsilon #random\n",
    "\n",
    "    if status=='lose':\n",
    "        reward=-1\n",
    "    elif status=='win':\n",
    "        reward=1\n",
    "    else:\n",
    "        reward=0\n",
    "\n",
    "    if learning:\n",
    "        Q[last_state][last_action]+=alpha*(reward - Q[last_state][last_action])"
   ]
  },
  {
   "cell_type": "code",
   "execution_count": null,
   "id": "cfb5949e-eef9-46f7-9d68-815cddc1b2cd",
   "metadata": {},
   "outputs": [],
   "source": [
    "Q1_agent= Agent(Q_move)\n",
    "Q1_agent.post=Q_after\n",
    "Q1_agent.Q=Table()\n",
    "Q1_agent.learning=True\n",
    "\n",
    "Q1_agent.alpha=0.3\n",
    "Q1_agent.gamma=0.9\n",
    "Q1_agent.epsilon=0.1"
   ]
  },
  {
   "cell_type": "code",
   "execution_count": null,
   "id": "553dfeb9-1732-46e0-8348-6e39f5a495b5",
   "metadata": {},
   "outputs": [],
   "source": [
    "Q2_agent= Agent(Q_move)\n",
    "Q2_agent.post=Q_after\n",
    "Q2_agent.Q=Table()\n",
    "Q2_agent.learning=True\n",
    "\n",
    "Q2_agent.alpha=0.3\n",
    "Q2_agent.gamma=0.9\n",
    "Q2_agent.epsilon=0.1"
   ]
  },
  {
   "cell_type": "code",
   "execution_count": null,
   "id": "8b622268-28da-4274-a243-31f5fe5c7eb2",
   "metadata": {},
   "outputs": [],
   "source": [
    "agent1=Q1_agent\n",
    "agent2=Q2_agent"
   ]
  },
  {
   "cell_type": "code",
   "execution_count": null,
   "id": "02ce67df-e249-4088-8026-a361d2a0921d",
   "metadata": {},
   "outputs": [],
   "source": [
    "iteration_count=0\n",
    "percentage_won_player1=[]\n",
    "percentage_won_player2=[]\n",
    "number_of_iterations=[]"
   ]
  },
  {
   "cell_type": "code",
   "execution_count": null,
   "id": "725ea51c-f73d-4945-8ddb-11291754ebc7",
   "metadata": {},
   "outputs": [],
   "source": [
    "epoch_number=100\n",
    "N_test=500\n",
    "N_train=300"
   ]
  },
  {
   "cell_type": "code",
   "execution_count": null,
   "id": "6c065d31-f62c-478c-adc0-98adba9786fd",
   "metadata": {},
   "outputs": [],
   "source": [
    "plt.close('all')\n",
    "fig,ax=plt.subplots(figsize=(6,4))\n",
    "\n",
    "for i in tqdm(range(epoch_number)):\n",
    "    try:\n",
    "        #train\n",
    "        agent1.learning=True\n",
    "        agent2.learning=True\n",
    "    \n",
    "        g=Game(number_of_games=N_train)\n",
    "        g.display=False\n",
    "        g.max_move_count=50\n",
    "        result=g.run(agent1,agent2)\n",
    "    \n",
    "        #test\n",
    "        agent1.learning=False\n",
    "        agent2.learning=False\n",
    "    \n",
    "        g=Game(number_of_games=N_test)\n",
    "        g.display=False\n",
    "        result=g.run(agent1,agent2)\n",
    "\n",
    "        iteration_count+=N_train\n",
    "        \n",
    "        percentage_won_player1.append(result.count(1)/N_test*100)\n",
    "        percentage_won_player2.append(result.count(2)/N_test*100)\n",
    "        number_of_iterations.append(iteration_count)\n",
    "\n",
    "    except KeyboardInterrupt:\n",
    "        break"
   ]
  },
  {
   "cell_type": "code",
   "execution_count": null,
   "id": "f9a8085d-d64a-4cac-9e8a-6fea6d7419c8",
   "metadata": {},
   "outputs": [],
   "source": [
    "SaveTable(Q1_agent.Q, 'CheckersQ.json')"
   ]
  },
  {
   "cell_type": "markdown",
   "id": "9fe89336-3d43-4808-8797-a64ae60068c1",
   "metadata": {},
   "source": [
    "Q performance, including successes, failures, limitations"
   ]
  }
 ],
 "metadata": {
  "kernelspec": {
   "display_name": "Python [conda env:base] *",
   "language": "python",
   "name": "conda-base-py"
  },
  "language_info": {
   "codemirror_mode": {
    "name": "ipython",
    "version": 3
   },
   "file_extension": ".py",
   "mimetype": "text/x-python",
   "name": "python",
   "nbconvert_exporter": "python",
   "pygments_lexer": "ipython3",
   "version": "3.12.7"
  }
 },
 "nbformat": 4,
 "nbformat_minor": 5
}
