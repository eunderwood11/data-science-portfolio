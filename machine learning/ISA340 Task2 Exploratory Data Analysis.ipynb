{
 "cells": [
  {
   "cell_type": "code",
   "execution_count": 1,
   "id": "6089bf13-e00d-46e7-b983-3716e327963b",
   "metadata": {},
   "outputs": [],
   "source": [
    "import pandas as pd\n",
    "import numpy as np\n",
    "import re"
   ]
  },
  {
   "cell_type": "code",
   "execution_count": 2,
   "id": "85231ad5-5115-48a7-b8e9-0f75a116d592",
   "metadata": {},
   "outputs": [
    {
     "data": {
      "text/html": [
       "<div>\n",
       "<style scoped>\n",
       "    .dataframe tbody tr th:only-of-type {\n",
       "        vertical-align: middle;\n",
       "    }\n",
       "\n",
       "    .dataframe tbody tr th {\n",
       "        vertical-align: top;\n",
       "    }\n",
       "\n",
       "    .dataframe thead th {\n",
       "        text-align: right;\n",
       "    }\n",
       "</style>\n",
       "<table border=\"1\" class=\"dataframe\">\n",
       "  <thead>\n",
       "    <tr style=\"text-align: right;\">\n",
       "      <th></th>\n",
       "      <th>Year</th>\n",
       "      <th>Quarter</th>\n",
       "      <th>Dollars Outstanding           (in billions)</th>\n",
       "      <th>Recipients     (in millions)</th>\n",
       "      <th>Type</th>\n",
       "    </tr>\n",
       "  </thead>\n",
       "  <tbody>\n",
       "    <tr>\n",
       "      <th>0</th>\n",
       "      <td>2015</td>\n",
       "      <td>Q1</td>\n",
       "      <td>$65.90</td>\n",
       "      <td>2.69</td>\n",
       "      <td>In-School Deferment</td>\n",
       "    </tr>\n",
       "    <tr>\n",
       "      <th>1</th>\n",
       "      <td>2015</td>\n",
       "      <td>Q2</td>\n",
       "      <td>$78.20</td>\n",
       "      <td>2.90</td>\n",
       "      <td>In-School Deferment</td>\n",
       "    </tr>\n",
       "    <tr>\n",
       "      <th>2</th>\n",
       "      <td>2015</td>\n",
       "      <td>Q3</td>\n",
       "      <td>$68.40</td>\n",
       "      <td>2.58</td>\n",
       "      <td>In-School Deferment</td>\n",
       "    </tr>\n",
       "    <tr>\n",
       "      <th>3</th>\n",
       "      <td>2015</td>\n",
       "      <td>Q4</td>\n",
       "      <td>$73.20</td>\n",
       "      <td>2.76</td>\n",
       "      <td>In-School Deferment</td>\n",
       "    </tr>\n",
       "    <tr>\n",
       "      <th>4</th>\n",
       "      <td>2016</td>\n",
       "      <td>Q1</td>\n",
       "      <td>$70.70</td>\n",
       "      <td>2.64</td>\n",
       "      <td>In-School Deferment</td>\n",
       "    </tr>\n",
       "  </tbody>\n",
       "</table>\n",
       "</div>"
      ],
      "text/plain": [
       "   Year Quarter Dollars Outstanding           (in billions)  \\\n",
       "0  2015      Q1                                     $65.90    \n",
       "1  2015      Q2                                     $78.20    \n",
       "2  2015      Q3                                     $68.40    \n",
       "3  2015      Q4                                     $73.20    \n",
       "4  2016      Q1                                     $70.70    \n",
       "\n",
       "   Recipients     (in millions)                 Type  \n",
       "0                          2.69  In-School Deferment  \n",
       "1                          2.90  In-School Deferment  \n",
       "2                          2.58  In-School Deferment  \n",
       "3                          2.76  In-School Deferment  \n",
       "4                          2.64  In-School Deferment  "
      ]
     },
     "execution_count": 2,
     "metadata": {},
     "output_type": "execute_result"
    }
   ],
   "source": [
    "data = pd.read_csv('DLbyDefermentType.csv')\n",
    "#direct loan by deferment type\n",
    "data.head()"
   ]
  },
  {
   "cell_type": "code",
   "execution_count": 3,
   "id": "22e43ed1-acf7-4a4a-9dac-2f99b3def6c5",
   "metadata": {},
   "outputs": [
    {
     "data": {
      "text/plain": [
       "Index(['Year', 'Quarter', 'Dollars Outstanding           (in billions)',\n",
       "       'Recipients     (in millions)', 'Type'],\n",
       "      dtype='object')"
      ]
     },
     "execution_count": 3,
     "metadata": {},
     "output_type": "execute_result"
    }
   ],
   "source": [
    "data.columns"
   ]
  },
  {
   "cell_type": "code",
   "execution_count": 4,
   "id": "72ef178c-cea3-47f5-8bf6-081221976aa7",
   "metadata": {},
   "outputs": [],
   "source": [
    "#data = data.drop(columns=['Unnamed: 5', 'Unnamed: 6'])"
   ]
  },
  {
   "cell_type": "code",
   "execution_count": 5,
   "id": "9bb0648f-d6e5-47cd-a33b-ba4375e8bf02",
   "metadata": {},
   "outputs": [],
   "source": [
    "data.rename(columns={'Dollars Outstanding           (in billions)': 'dollars', 'Recipients     (in millions)': 'recipients'}, inplace=True)"
   ]
  },
  {
   "cell_type": "code",
   "execution_count": 6,
   "id": "98b5d1b7-f0d1-4f76-b1f6-830be494afa0",
   "metadata": {},
   "outputs": [
    {
     "data": {
      "text/plain": [
       "Type\n",
       "In-School Deferment          40\n",
       "Six-Month Post-Enrollment    40\n",
       "Unemployment                 40\n",
       "Economic Hardship            40\n",
       "Military                     40\n",
       "Cancer Treatment             40\n",
       "Other                        40\n",
       "Not Reported                 40\n",
       "Name: count, dtype: int64"
      ]
     },
     "execution_count": 6,
     "metadata": {},
     "output_type": "execute_result"
    }
   ],
   "source": [
    "data['Type'].value_counts()"
   ]
  },
  {
   "cell_type": "code",
   "execution_count": 7,
   "id": "ecf04796-3f9d-4262-96ff-d895e54110cc",
   "metadata": {
    "scrolled": false
   },
   "outputs": [
    {
     "data": {
      "text/html": [
       "<div>\n",
       "<style scoped>\n",
       "    .dataframe tbody tr th:only-of-type {\n",
       "        vertical-align: middle;\n",
       "    }\n",
       "\n",
       "    .dataframe tbody tr th {\n",
       "        vertical-align: top;\n",
       "    }\n",
       "\n",
       "    .dataframe thead th {\n",
       "        text-align: right;\n",
       "    }\n",
       "</style>\n",
       "<table border=\"1\" class=\"dataframe\">\n",
       "  <thead>\n",
       "    <tr style=\"text-align: right;\">\n",
       "      <th></th>\n",
       "      <th>Year</th>\n",
       "      <th>Quarter</th>\n",
       "      <th>dollars</th>\n",
       "      <th>recipients</th>\n",
       "      <th>Type</th>\n",
       "    </tr>\n",
       "  </thead>\n",
       "  <tbody>\n",
       "    <tr>\n",
       "      <th>0</th>\n",
       "      <td>2015</td>\n",
       "      <td>Q1</td>\n",
       "      <td>$65.90</td>\n",
       "      <td>2.69</td>\n",
       "      <td>In-School Deferment</td>\n",
       "    </tr>\n",
       "    <tr>\n",
       "      <th>1</th>\n",
       "      <td>2015</td>\n",
       "      <td>Q2</td>\n",
       "      <td>$78.20</td>\n",
       "      <td>2.90</td>\n",
       "      <td>In-School Deferment</td>\n",
       "    </tr>\n",
       "    <tr>\n",
       "      <th>2</th>\n",
       "      <td>2015</td>\n",
       "      <td>Q3</td>\n",
       "      <td>$68.40</td>\n",
       "      <td>2.58</td>\n",
       "      <td>In-School Deferment</td>\n",
       "    </tr>\n",
       "    <tr>\n",
       "      <th>3</th>\n",
       "      <td>2015</td>\n",
       "      <td>Q4</td>\n",
       "      <td>$73.20</td>\n",
       "      <td>2.76</td>\n",
       "      <td>In-School Deferment</td>\n",
       "    </tr>\n",
       "    <tr>\n",
       "      <th>4</th>\n",
       "      <td>2016</td>\n",
       "      <td>Q1</td>\n",
       "      <td>$70.70</td>\n",
       "      <td>2.64</td>\n",
       "      <td>In-School Deferment</td>\n",
       "    </tr>\n",
       "  </tbody>\n",
       "</table>\n",
       "</div>"
      ],
      "text/plain": [
       "   Year Quarter  dollars  recipients                 Type\n",
       "0  2015      Q1  $65.90         2.69  In-School Deferment\n",
       "1  2015      Q2  $78.20         2.90  In-School Deferment\n",
       "2  2015      Q3  $68.40         2.58  In-School Deferment\n",
       "3  2015      Q4  $73.20         2.76  In-School Deferment\n",
       "4  2016      Q1  $70.70         2.64  In-School Deferment"
      ]
     },
     "execution_count": 7,
     "metadata": {},
     "output_type": "execute_result"
    }
   ],
   "source": [
    "data.head()"
   ]
  },
  {
   "cell_type": "code",
   "execution_count": 8,
   "id": "4dc4f384-277e-42d4-9908-e52d93b88e23",
   "metadata": {},
   "outputs": [],
   "source": [
    "data['dollars'] = data['dollars'].apply(lambda x: re.sub(r'[$,]', '', str(x)))"
   ]
  },
  {
   "cell_type": "code",
   "execution_count": 9,
   "id": "cd19fe3b-ca01-45f4-aa54-9ea342b511dc",
   "metadata": {},
   "outputs": [],
   "source": [
    "data['dollars'] = data['dollars'].astype(float)"
   ]
  },
  {
   "cell_type": "code",
   "execution_count": 10,
   "id": "3fc49b58-c679-457a-be81-8f72597e7b38",
   "metadata": {},
   "outputs": [
    {
     "data": {
      "text/html": [
       "<div>\n",
       "<style scoped>\n",
       "    .dataframe tbody tr th:only-of-type {\n",
       "        vertical-align: middle;\n",
       "    }\n",
       "\n",
       "    .dataframe tbody tr th {\n",
       "        vertical-align: top;\n",
       "    }\n",
       "\n",
       "    .dataframe thead th {\n",
       "        text-align: right;\n",
       "    }\n",
       "</style>\n",
       "<table border=\"1\" class=\"dataframe\">\n",
       "  <thead>\n",
       "    <tr style=\"text-align: right;\">\n",
       "      <th></th>\n",
       "      <th>Year</th>\n",
       "      <th>Quarter</th>\n",
       "      <th>dollars</th>\n",
       "      <th>recipients</th>\n",
       "      <th>Type</th>\n",
       "    </tr>\n",
       "  </thead>\n",
       "  <tbody>\n",
       "    <tr>\n",
       "      <th>0</th>\n",
       "      <td>2015</td>\n",
       "      <td>Q1</td>\n",
       "      <td>65.9</td>\n",
       "      <td>2.69</td>\n",
       "      <td>In-School Deferment</td>\n",
       "    </tr>\n",
       "    <tr>\n",
       "      <th>1</th>\n",
       "      <td>2015</td>\n",
       "      <td>Q2</td>\n",
       "      <td>78.2</td>\n",
       "      <td>2.90</td>\n",
       "      <td>In-School Deferment</td>\n",
       "    </tr>\n",
       "    <tr>\n",
       "      <th>2</th>\n",
       "      <td>2015</td>\n",
       "      <td>Q3</td>\n",
       "      <td>68.4</td>\n",
       "      <td>2.58</td>\n",
       "      <td>In-School Deferment</td>\n",
       "    </tr>\n",
       "    <tr>\n",
       "      <th>3</th>\n",
       "      <td>2015</td>\n",
       "      <td>Q4</td>\n",
       "      <td>73.2</td>\n",
       "      <td>2.76</td>\n",
       "      <td>In-School Deferment</td>\n",
       "    </tr>\n",
       "    <tr>\n",
       "      <th>4</th>\n",
       "      <td>2016</td>\n",
       "      <td>Q1</td>\n",
       "      <td>70.7</td>\n",
       "      <td>2.64</td>\n",
       "      <td>In-School Deferment</td>\n",
       "    </tr>\n",
       "  </tbody>\n",
       "</table>\n",
       "</div>"
      ],
      "text/plain": [
       "   Year Quarter  dollars  recipients                 Type\n",
       "0  2015      Q1     65.9        2.69  In-School Deferment\n",
       "1  2015      Q2     78.2        2.90  In-School Deferment\n",
       "2  2015      Q3     68.4        2.58  In-School Deferment\n",
       "3  2015      Q4     73.2        2.76  In-School Deferment\n",
       "4  2016      Q1     70.7        2.64  In-School Deferment"
      ]
     },
     "execution_count": 10,
     "metadata": {},
     "output_type": "execute_result"
    }
   ],
   "source": [
    "data.head()"
   ]
  },
  {
   "cell_type": "code",
   "execution_count": 11,
   "id": "0feda248-ee48-45a2-94f8-90ee5ac59351",
   "metadata": {
    "scrolled": true
   },
   "outputs": [
    {
     "data": {
      "text/html": [
       "<div>\n",
       "<style scoped>\n",
       "    .dataframe tbody tr th:only-of-type {\n",
       "        vertical-align: middle;\n",
       "    }\n",
       "\n",
       "    .dataframe tbody tr th {\n",
       "        vertical-align: top;\n",
       "    }\n",
       "\n",
       "    .dataframe thead th {\n",
       "        text-align: right;\n",
       "    }\n",
       "</style>\n",
       "<table border=\"1\" class=\"dataframe\">\n",
       "  <thead>\n",
       "    <tr style=\"text-align: right;\">\n",
       "      <th></th>\n",
       "      <th>Year</th>\n",
       "      <th>dollars</th>\n",
       "      <th>recipients</th>\n",
       "    </tr>\n",
       "  </thead>\n",
       "  <tbody>\n",
       "    <tr>\n",
       "      <th>count</th>\n",
       "      <td>320.00000</td>\n",
       "      <td>300.000000</td>\n",
       "      <td>300.000000</td>\n",
       "    </tr>\n",
       "    <tr>\n",
       "      <th>mean</th>\n",
       "      <td>2019.50000</td>\n",
       "      <td>14.134000</td>\n",
       "      <td>0.428433</td>\n",
       "    </tr>\n",
       "    <tr>\n",
       "      <th>std</th>\n",
       "      <td>2.87678</td>\n",
       "      <td>32.140874</td>\n",
       "      <td>0.975300</td>\n",
       "    </tr>\n",
       "    <tr>\n",
       "      <th>min</th>\n",
       "      <td>2015.00000</td>\n",
       "      <td>0.000000</td>\n",
       "      <td>0.000000</td>\n",
       "    </tr>\n",
       "    <tr>\n",
       "      <th>25%</th>\n",
       "      <td>2017.00000</td>\n",
       "      <td>0.000000</td>\n",
       "      <td>0.000000</td>\n",
       "    </tr>\n",
       "    <tr>\n",
       "      <th>50%</th>\n",
       "      <td>2019.50000</td>\n",
       "      <td>0.500000</td>\n",
       "      <td>0.010000</td>\n",
       "    </tr>\n",
       "    <tr>\n",
       "      <th>75%</th>\n",
       "      <td>2022.00000</td>\n",
       "      <td>3.800000</td>\n",
       "      <td>0.120000</td>\n",
       "    </tr>\n",
       "    <tr>\n",
       "      <th>max</th>\n",
       "      <td>2024.00000</td>\n",
       "      <td>117.800000</td>\n",
       "      <td>3.270000</td>\n",
       "    </tr>\n",
       "  </tbody>\n",
       "</table>\n",
       "</div>"
      ],
      "text/plain": [
       "             Year     dollars  recipients\n",
       "count   320.00000  300.000000  300.000000\n",
       "mean   2019.50000   14.134000    0.428433\n",
       "std       2.87678   32.140874    0.975300\n",
       "min    2015.00000    0.000000    0.000000\n",
       "25%    2017.00000    0.000000    0.000000\n",
       "50%    2019.50000    0.500000    0.010000\n",
       "75%    2022.00000    3.800000    0.120000\n",
       "max    2024.00000  117.800000    3.270000"
      ]
     },
     "execution_count": 11,
     "metadata": {},
     "output_type": "execute_result"
    }
   ],
   "source": [
    "data.describe()"
   ]
  },
  {
   "cell_type": "code",
   "execution_count": 14,
   "id": "af757209",
   "metadata": {
    "scrolled": true
   },
   "outputs": [
    {
     "data": {
      "text/plain": [
       "Type\n",
       "Cancer Treatment             0.00150\n",
       "Economic Hardship            0.07025\n",
       "In-School Deferment          2.90000\n",
       "Military                     0.00550\n",
       "Not Reported                 0.00150\n",
       "Other                        0.00100\n",
       "Six-Month Post-Enrollment    0.12000\n",
       "Unemployment                 0.11425\n",
       "Name: recipients, dtype: float64"
      ]
     },
     "execution_count": 14,
     "metadata": {},
     "output_type": "execute_result"
    }
   ],
   "source": [
    "data2 = data.groupby('Type')['recipients'].mean()\n",
    "data2"
   ]
  },
  {
   "cell_type": "code",
   "execution_count": 15,
   "id": "e6e1ef5b",
   "metadata": {},
   "outputs": [
    {
     "data": {
      "text/plain": [
       "Year\n",
       "2015    0.477857\n",
       "2016    0.479643\n",
       "2017    0.482500\n",
       "2018    0.490714\n",
       "2019    0.488929\n",
       "2020    0.404062\n",
       "2021    0.382812\n",
       "2022    0.364375\n",
       "2023    0.357500\n",
       "2024    0.390625\n",
       "Name: recipients, dtype: float64"
      ]
     },
     "execution_count": 15,
     "metadata": {},
     "output_type": "execute_result"
    }
   ],
   "source": [
    "data3 = data.groupby('Year')['recipients'].mean()\n",
    "data3"
   ]
  },
  {
   "cell_type": "markdown",
   "id": "8858087a-1d82-411b-bd76-7451ced3f9ae",
   "metadata": {},
   "source": [
    "First, we had to choose which data to use from the topic, so we downloaded 7 of the Excel sheets that were potential candidates for the project. I had to restructure the data in Excel first, since it was not a csv file nor in tabular format. I had to convert the data into a 2D table before loading it into Python using Pandas. Then, I dropped the empty columns, renamed the ones where there were formatting errors, and checked the distribution of the data. I realized that there was a dollar sign in the column of dollars outstanding, which had to be removed using regular expressions substitution. Then, I displayed the distribution of the data using describe."
   ]
  },
  {
   "cell_type": "markdown",
   "id": "7342a135-f8d7-45cd-8537-a1bdda579dd7",
   "metadata": {},
   "source": [
    "Questions to answer: what is the trend in the amount of dollars loaned and the number of recipients over time? Can we see a correlation between the number of receipients or amount of dollars loaned and the type of the deferment? Is there a correlation between loan amount and quarter?"
   ]
  },
  {
   "cell_type": "markdown",
   "id": "dca4f1a4",
   "metadata": {},
   "source": [
    "EDA: There was a net increase in the amount owed from 2015 10 2024. The in-school deferment type average recipients was much higher than the other loan types. The average number of recipients had a net decrease by year."
   ]
  }
 ],
 "metadata": {
  "kernelspec": {
   "display_name": "Python 3 (ipykernel)",
   "language": "python",
   "name": "python3"
  },
  "language_info": {
   "codemirror_mode": {
    "name": "ipython",
    "version": 3
   },
   "file_extension": ".py",
   "mimetype": "text/x-python",
   "name": "python",
   "nbconvert_exporter": "python",
   "pygments_lexer": "ipython3",
   "version": "3.11.5"
  }
 },
 "nbformat": 4,
 "nbformat_minor": 5
}
